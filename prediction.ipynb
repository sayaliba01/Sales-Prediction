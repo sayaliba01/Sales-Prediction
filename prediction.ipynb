{
 "cells": [
  {
   "cell_type": "code",
   "execution_count": 1,
   "metadata": {},
   "outputs": [],
   "source": [
    "import pandas as pd\n",
    "import matplotlib.pyplot as plt\n",
    "import numpy as np\n",
    "import datetime\n",
    "import json\n",
    "import seaborn as sns\n",
    "import gc"
   ]
  },
  {
   "cell_type": "markdown",
   "metadata": {},
   "source": [
    "## Importing datasets"
   ]
  },
  {
   "cell_type": "code",
   "execution_count": 2,
   "metadata": {},
   "outputs": [],
   "source": [
    "product_dtypes = {'product':'uint16','product_category':'object','product_subcategory': 'object',\n",
    "                  'var_1': 'float16','var_2': 'float16','var_3': 'float16','var_4':'float16',\n",
    "                  'var_5': 'float16','var_6': 'float16','var_7': 'float16','var_8':'float16',\n",
    "                  'var_9':'float16','var_10':'float16'}"
   ]
  },
  {
   "cell_type": "code",
   "execution_count": 3,
   "metadata": {},
   "outputs": [],
   "source": [
    "city_dict={}\n",
    "f = open('city_dict.json')\n",
    "city = json.load(f)\n",
    "for key in city.keys():\n",
    "    city_dict[int(key)]=city[key]\n",
    "f.close()\n",
    "del(city)\n",
    "#city_dict"
   ]
  },
  {
   "cell_type": "code",
   "execution_count": 4,
   "metadata": {},
   "outputs": [],
   "source": [
    "products = pd.read_csv('product_information.csv',dtype=product_dtypes)\n",
    "#foot_fall = pd.read_csv('foot_fall.csv')\n",
    "h_disc = pd.read_csv('historical_discount.csv')\n",
    "e_disc = pd.read_csv('expected_discount.csv')"
   ]
  },
  {
   "cell_type": "code",
   "execution_count": 5,
   "metadata": {},
   "outputs": [],
   "source": [
    "sales_15 = pd.read_csv('2015_sales_data.csv')\n",
    "sales_16 = pd.read_csv('2016_sales_data.csv')\n",
    "sales_17 = pd.read_csv('2017_sales_data.csv')\n",
    "sales_18 = pd.read_csv('2018_sales_data.csv')\n",
    "\n",
    "df=[sales_15,sales_16, sales_17, sales_18]\n",
    "sales = pd.concat(df, keys = ['2015','2016','2017','2018'])\n",
    "\n",
    "del(sales_15,sales_16,sales_17,sales_18)"
   ]
  },
  {
   "cell_type": "markdown",
   "metadata": {},
   "source": [
    "## Resetting dtypes and reducing memory usage"
   ]
  },
  {
   "cell_type": "code",
   "execution_count": 6,
   "metadata": {},
   "outputs": [],
   "source": [
    "sales.date=pd.to_datetime(sales.date)\n",
    "sales['city']=sales['city'].astype(np.uint8)\n",
    "sales['product']=sales['product'].astype(np.uint16)\n",
    "sales['sales']=sales['sales'].astype(np.int64)"
   ]
  },
  {
   "cell_type": "code",
   "execution_count": 7,
   "metadata": {},
   "outputs": [
    {
     "data": {
      "text/plain": [
       "\"\\nfoot_fall.set_index('city', inplace=True)\\nfoot_fall=foot_fall.T.reset_index()\\nfoot_fall.rename(columns={'index':'date'},inplace=True)\\nfoot_fall.date = pd.to_datetime(foot_fall.date)\\n\\nfoot_fall[cities]=foot_fall[cities].fillna(0).astype(np.uint16)\\n\""
      ]
     },
     "execution_count": 7,
     "metadata": {},
     "output_type": "execute_result"
    }
   ],
   "source": [
    "cities=['Ahmedabad', 'Bangalore', 'Chennai', 'Delhi', 'Hyderabad',\n",
    "       'Jaipur', 'Kolkata', 'Lucknow', 'Mumbai', 'Other']\n",
    "\n",
    "'''\n",
    "foot_fall.set_index('city', inplace=True)\n",
    "foot_fall=foot_fall.T.reset_index()\n",
    "foot_fall.rename(columns={'index':'date'},inplace=True)\n",
    "foot_fall.date = pd.to_datetime(foot_fall.date)\n",
    "\n",
    "foot_fall[cities]=foot_fall[cities].fillna(0).astype(np.uint16)\n",
    "'''"
   ]
  },
  {
   "cell_type": "code",
   "execution_count": 8,
   "metadata": {},
   "outputs": [
    {
     "name": "stdout",
     "output_type": "stream",
     "text": [
      "<class 'pandas.core.frame.DataFrame'>\n",
      "RangeIndex: 3389 entries, 0 to 3388\n",
      "Data columns (total 13 columns):\n",
      " #   Column               Non-Null Count  Dtype  \n",
      "---  ------               --------------  -----  \n",
      " 0   product              3389 non-null   uint16 \n",
      " 1   product_category     3389 non-null   object \n",
      " 2   product_subcategory  3389 non-null   object \n",
      " 3   var_1                3389 non-null   float16\n",
      " 4   var_2                3389 non-null   float16\n",
      " 5   var_3                3389 non-null   float16\n",
      " 6   var_4                3389 non-null   float16\n",
      " 7   var_5                3389 non-null   float16\n",
      " 8   var_6                3389 non-null   float16\n",
      " 9   var_7                3389 non-null   float16\n",
      " 10  var_8                3389 non-null   float16\n",
      " 11  var_9                3389 non-null   float16\n",
      " 12  var_10               3389 non-null   float16\n",
      "dtypes: float16(10), object(2), uint16(1)\n",
      "memory usage: 125.9+ KB\n"
     ]
    }
   ],
   "source": [
    "products.info()"
   ]
  },
  {
   "cell_type": "code",
   "execution_count": 9,
   "metadata": {},
   "outputs": [],
   "source": [
    "products = products.replace({'^Cat_':'','SubCat_':''}, regex =True)\n",
    "products[['product_category', 'product_subcategory']] = products[['product_category', \n",
    "                                                                  'product_subcategory']].apply(pd.to_numeric)\n",
    "products[['product_category', 'product_subcategory']]=products[['product_category', 'product_subcategory']].astype(np.uint16)"
   ]
  },
  {
   "cell_type": "code",
   "execution_count": 10,
   "metadata": {},
   "outputs": [
    {
     "name": "stdout",
     "output_type": "stream",
     "text": [
      "<class 'pandas.core.frame.DataFrame'>\n",
      "RangeIndex: 3389 entries, 0 to 3388\n",
      "Data columns (total 13 columns):\n",
      " #   Column               Non-Null Count  Dtype  \n",
      "---  ------               --------------  -----  \n",
      " 0   product              3389 non-null   uint16 \n",
      " 1   product_category     3389 non-null   uint16 \n",
      " 2   product_subcategory  3389 non-null   uint16 \n",
      " 3   var_1                3389 non-null   float16\n",
      " 4   var_2                3389 non-null   float16\n",
      " 5   var_3                3389 non-null   float16\n",
      " 6   var_4                3389 non-null   float16\n",
      " 7   var_5                3389 non-null   float16\n",
      " 8   var_6                3389 non-null   float16\n",
      " 9   var_7                3389 non-null   float16\n",
      " 10  var_8                3389 non-null   float16\n",
      " 11  var_9                3389 non-null   float16\n",
      " 12  var_10               3389 non-null   float16\n",
      "dtypes: float16(10), uint16(3)\n",
      "memory usage: 86.2 KB\n"
     ]
    }
   ],
   "source": [
    "products.info()"
   ]
  },
  {
   "cell_type": "code",
   "execution_count": 11,
   "metadata": {},
   "outputs": [],
   "source": [
    "h_disc.rename(columns={'Discount_Ahmedabad':'Ahmedabad', 'Discount_Bangalore':'Bangalore',\n",
    "                       'Discount_Chennai':'Chennai', 'Discount_Delhi':'Delhi', 'Discount_Hyderabad':'Hyderabad',\n",
    "                       'Discount_Jaipur':'Jaipur', 'Discount_Kolkata':'Kolkata', 'Discount_Lucknow':'Lucknow',\n",
    "                       'Discount_Mumbai':'Mumbai', 'Discount_Other':'Other'}, inplace=True)\n",
    "\n",
    "h_disc[cities]=h_disc[cities].astype(np.uint8)\n",
    "h_disc['product']=h_disc['product'].astype(np.uint16)\n",
    "h_disc.date=pd.to_datetime(h_disc.date)\n",
    "\n",
    "h_disc=(h_disc.melt(['date','product'], \n",
    "             var_name='city', \n",
    "             value_name='discount'))\n",
    "\n",
    "#h_disc.info()"
   ]
  },
  {
   "cell_type": "code",
   "execution_count": 12,
   "metadata": {},
   "outputs": [],
   "source": [
    "e_disc.rename(columns={'Discount_Ahmedabad':'Ahmedabad', 'Discount_Bangalore':'Bangalore',\n",
    "                       'Discount_Chennai':'Chennai', 'Discount_Delhi':'Delhi', 'Discount_Hyderabad':'Hyderabad',\n",
    "                       'Discount_Jaipur':'Jaipur', 'Discount_Kolkata':'Kolkata', 'Discount_Lucknow':'Lucknow',\n",
    "                       'Discount_Mumbai':'Mumbai', 'Discount_Other':'Other'}, inplace=True)\n",
    "\n",
    "e_disc[cities]=e_disc[cities].astype(np.uint8)\n",
    "e_disc['product']=e_disc['product'].astype(np.uint16)\n",
    "e_disc.date=pd.to_datetime(e_disc.date)\n",
    "\n",
    "e_disc=(e_disc.melt(['date','product'], \n",
    "             var_name='city', \n",
    "             value_name='discount'))\n",
    "#e_disc.info()"
   ]
  },
  {
   "cell_type": "code",
   "execution_count": 13,
   "metadata": {},
   "outputs": [
    {
     "data": {
      "text/plain": [
       "60"
      ]
     },
     "execution_count": 13,
     "metadata": {},
     "output_type": "execute_result"
    }
   ],
   "source": [
    "gc.collect()"
   ]
  },
  {
   "cell_type": "markdown",
   "metadata": {},
   "source": [
    "## Data wrangling"
   ]
  },
  {
   "cell_type": "code",
   "execution_count": 14,
   "metadata": {},
   "outputs": [
    {
     "name": "stdout",
     "output_type": "stream",
     "text": [
      "{4: 'Mumbai', 5: 'Delhi', 7: 'Bangalore', 1: 'Kolkata', 6: 'Chennai', 8: 'Hyderabad', 9: 'Ahmedabad', 3: 'Jaipur', 10: 'Lucknow', 2: 'Other'}\n",
      "products (3389, 13)\n",
      "Historical discounts (1127530, 4)\n",
      "expected discount (309870, 4)\n"
     ]
    }
   ],
   "source": [
    "print(city_dict)\n",
    "#print('foot fall',foot_fall.shape)\n",
    "print('products',products.shape)\n",
    "print('Historical discounts',h_disc.shape)\n",
    "print('expected discount',e_disc.shape)"
   ]
  },
  {
   "cell_type": "code",
   "execution_count": 15,
   "metadata": {},
   "outputs": [
    {
     "name": "stdout",
     "output_type": "stream",
     "text": [
      "old shape (21135745, 4)\n",
      "new shape (21113141, 4)\n"
     ]
    }
   ],
   "source": [
    "#Replacing city ids with names\n",
    "def cv(x):\n",
    "    return (city_dict[x])\n",
    "sales.city = sales.city.apply(cv)\n",
    "\n",
    "#Deleting duplicate entries\n",
    "print('old shape',sales.shape)\n",
    "sales.drop_duplicates(['date','product','city'], inplace=True)\n",
    "sales.reset_index(drop=True,inplace=True)\n",
    "print('new shape',sales.shape)"
   ]
  },
  {
   "cell_type": "code",
   "execution_count": 16,
   "metadata": {},
   "outputs": [
    {
     "data": {
      "text/plain": [
       "(21112679, 4)"
      ]
     },
     "execution_count": 16,
     "metadata": {},
     "output_type": "execute_result"
    }
   ],
   "source": [
    "# Removing outliers\n",
    "sales=sales[(sales['sales']>-2000)]\n",
    "sales = sales[sales['sales']<5000]\n",
    "sales.reset_index(drop=True,inplace=True)\n",
    "sales.shape"
   ]
  },
  {
   "cell_type": "markdown",
   "metadata": {},
   "source": [
    "## Working with features, merging datasets"
   ]
  },
  {
   "cell_type": "code",
   "execution_count": 17,
   "metadata": {},
   "outputs": [],
   "source": [
    "result = pd.merge(sales, h_disc, how='left', on=['date', 'product','city'] ).fillna(0)"
   ]
  },
  {
   "cell_type": "code",
   "execution_count": 18,
   "metadata": {},
   "outputs": [
    {
     "data": {
      "text/plain": [
       "20"
      ]
     },
     "execution_count": 18,
     "metadata": {},
     "output_type": "execute_result"
    }
   ],
   "source": [
    "del(sales, h_disc)\n",
    "\n",
    "gc.collect()"
   ]
  },
  {
   "cell_type": "code",
   "execution_count": 19,
   "metadata": {},
   "outputs": [],
   "source": [
    "#Converting categorical cities to city ids\n",
    "new_dict = dict([(value, key) for key, value in city_dict.items()]) \n",
    "result.replace(new_dict, inplace=True)"
   ]
  },
  {
   "cell_type": "code",
   "execution_count": 20,
   "metadata": {},
   "outputs": [],
   "source": [
    "features = pd.merge(result, products,how='left', on=['product']).fillna(0)"
   ]
  },
  {
   "cell_type": "code",
   "execution_count": 21,
   "metadata": {},
   "outputs": [
    {
     "data": {
      "text/plain": [
       "40"
      ]
     },
     "execution_count": 21,
     "metadata": {},
     "output_type": "execute_result"
    }
   ],
   "source": [
    "del(result,products)\n",
    "\n",
    "gc.collect()"
   ]
  },
  {
   "cell_type": "code",
   "execution_count": 22,
   "metadata": {},
   "outputs": [],
   "source": [
    "#features.info()\n",
    "features['day'] = features['date'].map(lambda x: x.day)\n",
    "features['month'] = features['date'].map(lambda x: x.month)\n",
    "features['year'] = features['date'].map(lambda x: x.year)\n",
    "features.drop('date', axis=1, inplace=True)\n"
   ]
  },
  {
   "cell_type": "code",
   "execution_count": 23,
   "metadata": {},
   "outputs": [],
   "source": [
    "features.reset_index(drop=True,inplace=True)"
   ]
  },
  {
   "cell_type": "code",
   "execution_count": 24,
   "metadata": {},
   "outputs": [
    {
     "data": {
      "text/plain": [
       "40"
      ]
     },
     "execution_count": 24,
     "metadata": {},
     "output_type": "execute_result"
    }
   ],
   "source": [
    "gc.collect()"
   ]
  },
  {
   "cell_type": "code",
   "execution_count": 25,
   "metadata": {},
   "outputs": [
    {
     "name": "stdout",
     "output_type": "stream",
     "text": [
      "<class 'pandas.core.frame.DataFrame'>\n",
      "RangeIndex: 21112679 entries, 0 to 21112678\n",
      "Data columns (total 19 columns):\n",
      " #   Column               Dtype  \n",
      "---  ------               -----  \n",
      " 0   city                 int64  \n",
      " 1   product              uint16 \n",
      " 2   sales                int64  \n",
      " 3   discount             float64\n",
      " 4   product_category     uint16 \n",
      " 5   product_subcategory  uint16 \n",
      " 6   var_1                float16\n",
      " 7   var_2                float16\n",
      " 8   var_3                float16\n",
      " 9   var_4                float16\n",
      " 10  var_5                float16\n",
      " 11  var_6                float16\n",
      " 12  var_7                float16\n",
      " 13  var_8                float16\n",
      " 14  var_9                float16\n",
      " 15  var_10               float16\n",
      " 16  day                  int64  \n",
      " 17  month                int64  \n",
      " 18  year                 int64  \n",
      "dtypes: float16(10), float64(1), int64(5), uint16(3)\n",
      "memory usage: 1.5 GB\n"
     ]
    }
   ],
   "source": [
    "features.info()"
   ]
  },
  {
   "cell_type": "code",
   "execution_count": 26,
   "metadata": {},
   "outputs": [
    {
     "data": {
      "text/plain": [
       "Index(['city', 'product', 'sales', 'discount', 'product_category',\n",
       "       'product_subcategory', 'var_1', 'var_2', 'var_3', 'var_4', 'var_5',\n",
       "       'var_6', 'var_7', 'var_8', 'var_9', 'var_10', 'day', 'month', 'year'],\n",
       "      dtype='object')"
      ]
     },
     "execution_count": 26,
     "metadata": {},
     "output_type": "execute_result"
    }
   ],
   "source": [
    "features.columns"
   ]
  },
  {
   "cell_type": "code",
   "execution_count": 27,
   "metadata": {},
   "outputs": [],
   "source": [
    "dtypes = {'city':'uint8','discount':'uint8', 'product_category':'uint16',\n",
    "       'product_subcategory':'uint16', 'day':'uint8', 'month':'uint8', 'year':'uint16'}\n",
    "c = ['city', 'discount', 'product_category','product_subcategory', 'day', 'month', 'year']\n",
    "features[c]=features[c].astype(dtypes)"
   ]
  },
  {
   "cell_type": "code",
   "execution_count": 28,
   "metadata": {},
   "outputs": [
    {
     "name": "stdout",
     "output_type": "stream",
     "text": [
      "<class 'pandas.core.frame.DataFrame'>\n",
      "RangeIndex: 21112679 entries, 0 to 21112678\n",
      "Data columns (total 19 columns):\n",
      " #   Column               Dtype  \n",
      "---  ------               -----  \n",
      " 0   city                 uint8  \n",
      " 1   product              uint16 \n",
      " 2   sales                int64  \n",
      " 3   discount             uint8  \n",
      " 4   product_category     uint16 \n",
      " 5   product_subcategory  uint16 \n",
      " 6   var_1                float16\n",
      " 7   var_2                float16\n",
      " 8   var_3                float16\n",
      " 9   var_4                float16\n",
      " 10  var_5                float16\n",
      " 11  var_6                float16\n",
      " 12  var_7                float16\n",
      " 13  var_8                float16\n",
      " 14  var_9                float16\n",
      " 15  var_10               float16\n",
      " 16  day                  uint8  \n",
      " 17  month                uint8  \n",
      " 18  year                 uint16 \n",
      "dtypes: float16(10), int64(1), uint16(4), uint8(4)\n",
      "memory usage: 805.4 MB\n"
     ]
    }
   ],
   "source": [
    "features.info()"
   ]
  },
  {
   "cell_type": "code",
   "execution_count": 29,
   "metadata": {},
   "outputs": [],
   "source": [
    "y = features['sales']\n",
    "features.drop('sales', axis=1, inplace=True)"
   ]
  },
  {
   "cell_type": "markdown",
   "metadata": {},
   "source": [
    "## Test data"
   ]
  },
  {
   "cell_type": "code",
   "execution_count": null,
   "metadata": {},
   "outputs": [],
   "source": [
    "test_ = pd.read_csv('test_data.csv')\n",
    "sample_ = pd.read_csv('sample_submission.csv')\n",
    "test_.head()"
   ]
  },
  {
   "cell_type": "code",
   "execution_count": null,
   "metadata": {},
   "outputs": [],
   "source": [
    "test_.city.value_counts()"
   ]
  },
  {
   "cell_type": "code",
   "execution_count": null,
   "metadata": {},
   "outputs": [],
   "source": [
    "m=test_['product'].isin(features['product'])\n",
    "m.value_counts()"
   ]
  },
  {
   "cell_type": "code",
   "execution_count": null,
   "metadata": {},
   "outputs": [],
   "source": [
    "test_.info()"
   ]
  },
  {
   "cell_type": "code",
   "execution_count": null,
   "metadata": {},
   "outputs": [],
   "source": [
    "# Dtypes\n",
    "test_.date=pd.to_datetime(test_.date)\n",
    "test_.id = test_.id.astype(np.uint64)\n",
    "test_['city']=test_['city'].astype(np.uint8)\n",
    "test_['product']=test_['product'].astype(np.uint16)\n",
    "#df['sales']=df['sales'].astype(np.int64)\n",
    "    \n",
    "# City ids to names\n",
    "test_.city = test_.city.apply(cv)\n"
   ]
  },
  {
   "cell_type": "code",
   "execution_count": null,
   "metadata": {},
   "outputs": [],
   "source": [
    "# Merging\n",
    "df1 = pd.merge(test_, e_disc, how='left', on=['date', 'product','city'] ).fillna(0)\n",
    "del e_disc,test_\n",
    "    \n",
    "# Changing back city names to ids\n",
    "df1=df1.replace(new_dict)\n",
    "    \n",
    "# Uploading products data\n",
    "products = pd.read_csv('product_information.csv',dtype=product_dtypes)\n",
    "products = products.replace({'^Cat_':'','SubCat_':''}, regex =True)\n",
    "products[['product_category', 'product_subcategory']] = products[['product_category',\n",
    "                                                                      'product_subcategory']].apply(pd.to_numeric)\n",
    "products[['product_category', 'product_subcategory']]=products[['product_category', 'product_subcategory']].astype(np.uint16)\n",
    "    \n",
    "# Merging\n",
    "df2 = pd.merge(df1, products,how='left', on=['product']).fillna(0)\n",
    "del (df1,products)\n",
    "    \n",
    "gc.collect()\n",
    "    \n",
    "df2['day'] = df2['date'].map(lambda x: x.day)\n",
    "df2['month'] = df2['date'].map(lambda x: x.month)\n",
    "df2['year'] = df2['date'].map(lambda x: x.year)\n",
    "df2.drop('date', axis=1, inplace=True)\n",
    "df2.reset_index(drop=True,inplace=True)\n",
    "        \n",
    "gc.collect()"
   ]
  },
  {
   "cell_type": "code",
   "execution_count": null,
   "metadata": {},
   "outputs": [],
   "source": [
    "gc.collect()"
   ]
  },
  {
   "cell_type": "code",
   "execution_count": null,
   "metadata": {},
   "outputs": [],
   "source": [
    "df2.info()"
   ]
  },
  {
   "cell_type": "code",
   "execution_count": null,
   "metadata": {},
   "outputs": [],
   "source": [
    "df2.set_index('id',inplace=True)"
   ]
  },
  {
   "cell_type": "code",
   "execution_count": null,
   "metadata": {},
   "outputs": [],
   "source": [
    "dtypes = {'city':'uint8','discount':'uint8', 'product_category':'uint16',\n",
    "       'product_subcategory':'uint16', 'day':'uint8', 'month':'uint8', 'year':'uint16'}\n",
    "c = ['city', 'discount', 'product_category','product_subcategory', 'day', 'month', 'year']\n",
    "df2[c]=df2[c].astype(dtypes)"
   ]
  },
  {
   "cell_type": "markdown",
   "metadata": {},
   "source": [
    "### **Normalizing data"
   ]
  },
  {
   "cell_type": "code",
   "execution_count": null,
   "metadata": {},
   "outputs": [],
   "source": [
    "'''\n",
    "cols = ['city', 'product','product_category','discount',\n",
    "        'product_subcategory', 'var_1', 'var_2', 'var_3', 'var_4', 'var_5',\n",
    "        'var_6', 'var_7', 'var_8', 'var_9', 'var_10','day', 'month', 'year']\n",
    "from sklearn import preprocessing\n",
    "features[cols] = preprocessing.normalize(features[cols])\n",
    "del (features)"
   ]
  }
 ],
 "metadata": {
  "kernelspec": {
   "display_name": "Python 3",
   "language": "python",
   "name": "python3"
  },
  "language_info": {
   "codemirror_mode": {
    "name": "ipython",
    "version": 3
   },
   "file_extension": ".py",
   "mimetype": "text/x-python",
   "name": "python",
   "nbconvert_exporter": "python",
   "pygments_lexer": "ipython3",
   "version": "3.7.6"
  }
 },
 "nbformat": 4,
 "nbformat_minor": 4
}
